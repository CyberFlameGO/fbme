{
 "cells": [
  {
   "cell_type": "code",
   "execution_count": null,
   "metadata": {},
   "outputs": [],
   "source": [
    "import socket\n",
    "import sys\n",
    "import time"
   ]
  },
  {
   "cell_type": "code",
   "execution_count": null,
   "metadata": {},
   "outputs": [],
   "source": [
    "device_port = 61499"
   ]
  },
  {
   "cell_type": "code",
   "execution_count": null,
   "metadata": {},
   "outputs": [],
   "source": [
    "class DeviceConnection():\n",
    "    \n",
    "    def __init__(self, port):\n",
    "        self.socket = socket.socket(socket.AF_INET, socket.SOCK_STREAM)\n",
    "        self.socket.connect(('localhost', port))\n",
    "        self.id = 0\n",
    "   \n",
    "    def send(self, resource, action, body):\n",
    "        content = '<Request ID=\"' + str(self.id) + '\" Action=\"' + action + '\">' + body + '</Request>'\n",
    "        self.id = self.id + 1\n",
    "        encoded = ('\\x50\\x00'+ chr(len(resource)) + resource + '\\x50\\x00' + chr(len(content)) + content).encode('ascii')\n",
    "        self.socket.sendall(encoded)\n",
    "        print(self.socket.recv(1024)[3:].decode('ascii'))\n",
    "    \n",
    "    def close(self):\n",
    "        self.socket.close()\n",
    "    "
   ]
  },
  {
   "cell_type": "code",
   "execution_count": null,
   "metadata": {},
   "outputs": [],
   "source": [
    "connection = DeviceConnection(device_port)"
   ]
  },
  {
   "cell_type": "code",
   "execution_count": null,
   "metadata": {},
   "outputs": [],
   "source": [
    "connection.send('', 'CREATE', '<FB Name=\"Blinky_RES\" Type=\"EMB_RES\" />')"
   ]
  },
  {
   "cell_type": "code",
   "execution_count": null,
   "metadata": {},
   "outputs": [],
   "source": [
    "connection.send('Blinky_RES', 'CREATE', '<FB Name=\"E_CYCLE\" Type=\"E_CYCLE\" />')\n",
    "connection.send('Blinky_RES', 'CREATE', '<FB Name=\"E_SWITCH\" Type=\"E_SWITCH\" />')\n",
    "connection.send('Blinky_RES', 'CREATE', '<FB Name=\"E_SR\" Type=\"E_SR\" />')\n",
    "connection.send('Blinky_RES', 'CREATE', '<Connection Source=\"START.COLD\" Type=\"E_CYCLE.START\" />')\n",
    "connection.send('Blinky_RES', 'CREATE', '<Connection Source=\"START.WARM\" Type=\"E_CYCLE.START\" />')\n",
    "connection.send('Blinky_RES', 'CREATE', '<Connection Source=\"E_CYCLE.EO\" Type=\"E_SWITCH.EI\" />')\n",
    "connection.send('Blinky_RES', 'CREATE', '<Connection Source=\"E_SWITCH.EO0\" Type=\"E_SR.S\" />')\n",
    "connection.send('Blinky_RES', 'CREATE', '<Connection Source=\"E_SWITCH.EO1\" Type=\"E_SR.R\" />')\n",
    "connection.send('Blinky_RES', 'WRITE', '<Connection Source=\"T#1s\" Type=\"E_CYCLE.DT\" />')\n",
    "connection.send('Blinky_RES', 'CREATE', '<Connection Source=\"E_SR.Q\" Type=\"E_SWITCH.G\" />')"
   ]
  },
  {
   "cell_type": "code",
   "execution_count": null,
   "metadata": {},
   "outputs": [],
   "source": [
    "connection.send('Blinky_RES', 'START', '')"
   ]
  },
  {
   "cell_type": "code",
   "execution_count": null,
   "metadata": {},
   "outputs": [],
   "source": [
    "connection.send('Blinky_RES', 'CREATE', '<Watch Source=\"E_SWITCH.EO0\" Destination=\"*\" />')\n",
    "connection.send('Blinky_RES', 'CREATE', '<Watch Source=\"E_CYCLE.EO\" Destination=\"*\" />')\n",
    "connection.send('Blinky_RES', 'CREATE', '<Watch Source=\"E_CYCLE.E_DELAY.EO\" Destination=\"*\" />')\n",
    "connection.send('Blinky_RES', 'CREATE', '<Watch Source=\"E_SR.Q\" Destination=\"*\" />')"
   ]
  },
  {
   "cell_type": "code",
   "execution_count": null,
   "metadata": {
    "scrolled": true
   },
   "outputs": [],
   "source": [
    "for i in range(100):\n",
    "    connection.send('', 'READ', '<Watches/>')\n",
    "    time.sleep(0.1)"
   ]
  },
  {
   "cell_type": "code",
   "execution_count": null,
   "metadata": {},
   "outputs": [],
   "source": [
    "connection.close()"
   ]
  },
  {
   "cell_type": "code",
   "execution_count": null,
   "metadata": {},
   "outputs": [],
   "source": [
    "s = socket.socket(socket.AF_INET, socket.SOCK_DGRAM)\n",
    "s.setsockopt(socket.SOL_SOCKET, socket.SO_REUSEADDR, 1)\n",
    "s.bind(('239.0.0.1', 61000))\n",
    "\n",
    "data = s.recvfrom(16)\n",
    "data"
   ]
  },
  {
   "cell_type": "code",
   "execution_count": null,
   "metadata": {},
   "outputs": [],
   "source": [
    "import struct\n",
    "\n",
    "sock = socket.socket(socket.AF_INET, socket.SOCK_DGRAM, socket.IPPROTO_UDP)\n",
    "sock.setsockopt(socket.SOL_SOCKET, socket.SO_REUSEADDR, 1)\n",
    "sock.bind(('', 61000))\n",
    "\n",
    "mreq = struct.pack(\"=4sl\", socket.inet_aton('239.0.0.1'), socket.INADDR_ANY)\n",
    "sock.setsockopt(socket.IPPROTO_IP, socket.IP_ADD_MEMBERSHIP, mreq)\n",
    "\n",
    "while True:\n",
    "    print([i for i in sock.recv(10240)])"
   ]
  },
  {
   "cell_type": "code",
   "execution_count": null,
   "metadata": {},
   "outputs": [],
   "source": []
  }
 ],
 "metadata": {
  "kernelspec": {
   "display_name": "Python 3",
   "language": "python",
   "name": "python3"
  },
  "language_info": {
   "codemirror_mode": {
    "name": "ipython",
    "version": 3
   },
   "file_extension": ".py",
   "mimetype": "text/x-python",
   "name": "python",
   "nbconvert_exporter": "python",
   "pygments_lexer": "ipython3",
   "version": "3.7.6"
  }
 },
 "nbformat": 4,
 "nbformat_minor": 4
}
